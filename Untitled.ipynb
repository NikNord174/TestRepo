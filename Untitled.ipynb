{
 "cells": [
  {
   "cell_type": "code",
   "execution_count": 19,
   "metadata": {},
   "outputs": [],
   "source": [
    "import pandas as pd\n",
    "import numpy as np"
   ]
  },
  {
   "cell_type": "code",
   "execution_count": 20,
   "metadata": {},
   "outputs": [],
   "source": [
    "df=pd.read_csv('K06_2_corrected.txt',sep='\\t',header=23,names=['Temp','Time','dL'])\n",
    "df['dL']=df['dL']/100\n",
    "np.savetxt(r'K06_2_corrected_1.txt', df.values, delimiter='\\t', fmt='%5f')"
   ]
  },
  {
   "cell_type": "code",
   "execution_count": 66,
   "metadata": {},
   "outputs": [],
   "source": [
    "def file_import(file, corr):\n",
    "    df=pd.read_csv(file,sep=';',header=24,names=['Temp','Time','dL'])\n",
    "    df_corr=pd.read_csv(corr,sep=';',header=24,names=['Temp','Time','dL'])\n",
    "    return [df, df_corr]\n",
    "data_list=[\n",
    "    file_import('000401_K06_1_1350_Air-static.txt','000407_correction_saphire_1_1350_Air-static.txt'),\n",
    "    file_import('000398_K06_2_1350_Air-static.txt','000392_correction_saphire_2_1450_Air-static.txt'),\n",
    "    file_import('000397_K06_5_1350_Air-static.txt','000396_correction_saphire_5_1350_Air-static.txt'),\n",
    "    file_import('000402_K06_10_1335_Air-static.txt','000403_correction_saphire_10_1350_Air-static.txt'),\n",
    "    file_import('000393_K06_20_1450_Air-static.txt','000391_correction_saphire_20_1450_Air-static.txt')\n",
    "    ]"
   ]
  },
  {
   "cell_type": "code",
   "execution_count": 71,
   "metadata": {},
   "outputs": [
    {
     "name": "stderr",
     "output_type": "stream",
     "text": [
      "D:\\Anaconda3\\lib\\site-packages\\ipykernel_launcher.py:4: SettingWithCopyWarning: \n",
      "A value is trying to be set on a copy of a slice from a DataFrame.\n",
      "Try using .loc[row_indexer,col_indexer] = value instead\n",
      "\n",
      "See the caveats in the documentation: https://pandas.pydata.org/pandas-docs/stable/user_guide/indexing.html#returning-a-view-versus-a-copy\n",
      "  after removing the cwd from sys.path.\n"
     ]
    },
    {
     "data": {
      "text/plain": [
       "5"
      ]
     },
     "execution_count": 71,
     "metadata": {},
     "output_type": "execute_result"
    }
   ],
   "source": [
    "def convert(*data):\n",
    "    data_800=data[0][0].loc[data[0][0].index[data[0][0]['Temp']>700][0]:data[0][0].index[data[0][0]['Temp']<1230][-1],:]\n",
    "    data_corr_800=data[0][1].loc[data[0][1].index[data[0][1]['Temp']>700][0]:data[0][1].index[data[0][1]['Temp']<1230][-1],:]\n",
    "    data_800['dL_corr']=(data_800['dL']-data_corr_800['dL'])*100\n",
    "    data_800.drop(['dL'],axis=1,inplace=True)\n",
    "    return data_800\n",
    "\n",
    "result_list=[]\n",
    "for i in range(len(data_list)):\n",
    "    result_list.append(convert(data_list[i]))\n",
    "len(result_list)"
   ]
  },
  {
   "cell_type": "code",
   "execution_count": 72,
   "metadata": {},
   "outputs": [],
   "source": [
    "np.savetxt(r'K06_1_corrected_1.txt', result_list[0].values, delimiter='\\t', fmt='%5f')\n",
    "np.savetxt(r'K06_2_corrected_1.txt', result_list[1].values, delimiter='\\t', fmt='%5f')\n",
    "np.savetxt(r'K06_5_corrected_1.txt', result_list[2].values, delimiter='\\t', fmt='%5f')\n",
    "np.savetxt(r'K06_10_corrected_1.txt', result_list[3].values, delimiter='\\t', fmt='%5f')\n",
    "np.savetxt(r'K06_20_corrected_1.txt', result_list[4].values, delimiter='\\t', fmt='%5f')"
   ]
  },
  {
   "cell_type": "code",
   "execution_count": null,
   "metadata": {},
   "outputs": [],
   "source": []
  }
 ],
 "metadata": {
  "kernelspec": {
   "display_name": "Python 3",
   "language": "python",
   "name": "python3"
  },
  "language_info": {
   "codemirror_mode": {
    "name": "ipython",
    "version": 3
   },
   "file_extension": ".py",
   "mimetype": "text/x-python",
   "name": "python",
   "nbconvert_exporter": "python",
   "pygments_lexer": "ipython3",
   "version": "3.8.0"
  }
 },
 "nbformat": 4,
 "nbformat_minor": 4
}
